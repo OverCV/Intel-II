{
 "cells": [
  {
   "cell_type": "markdown",
   "id": "e3f4f91e-4f1a-4a7b-9af2-e956bcdeebbe",
   "metadata": {},
   "source": [
    "## FFNN\n",
    "Predecir el precio medio de una casa en miles de dólares a partir de 13 variables predictoras.\n",
    "### Librerías"
   ]
  },
  {
   "cell_type": "code",
   "execution_count": 4,
   "id": "ec59ae31-0bee-43c0-b197-7ec2e2633360",
   "metadata": {},
   "outputs": [],
   "source": [
    "import torch\n",
    "import torch.nn as nn\n",
    "import torch.optim as optim\n",
    "from sklearn.model_selection import train_test_split\n",
    "from sklearn.preprocessing import StandardScaler\n",
    "from sklearn.metrics import mean_squared_error, mean_absolute_error, r2_score\n",
    "import matplotlib.pyplot as plt\n",
    "import numpy as np\n",
    "import pandas as pd"
   ]
  },
  {
   "cell_type": "markdown",
   "id": "1dbc31cb-807c-4d0d-9d7a-4fef05581ba1",
   "metadata": {},
   "source": [
    "### Cargar los datos de entrenamiento\n",
    "\n",
    "| Variable | Descripción  |\n",
    "|----------|-----------------------|\n",
    "| **CRIM** | Tasa de criminalidad per cápita por ciudad |\n",
    "| **ZN** | Proporción de terreno residencial destinado a lotes mayores de 25,000 pies cuadrados |\n",
    "| **INDUS** | Proporción de acres de negocios no minoristas por ciudad |\n",
    "| **CHAS** | Variable dummy del Río Charles (= 1 si la parcela limita con el río; 0 en caso contrario) |\n",
    "| **NOX** | Concentración de óxidos de nitrógeno (partes por 10 millones) |\n",
    "| **RM** | Promedio de habitaciones por vivienda |\n",
    "| **AGE** | Proporción de unidades ocupadas por sus dueños construidas antes de 1940 |\n",
    "| **DIS** | Distancias ponderadas a cinco centros de empleo de Boston |\n",
    "| **RAD** | Índice de accesibilidad a carreteras radiales |\n",
    "| **TAX** | Tasa de impuesto predial por cada $10,000 de valor total |\n",
    "| **PTRATIO** | Proporción alumno-maestro por ciudad |\n",
    "| **B** | 1000(Bk - 0.63)^2 donde Bk es la proporción de personas afroamericanas por ciudad |\n",
    "| **LSTAT** | % de población con estatus socioeconómico bajo |\n",
    "| **MEDV** | Valor promedio de viviendas ocupadas por sus dueños (en miles de dólares) |"
   ]
  },
  {
   "cell_type": "code",
   "execution_count": 13,
   "id": "928849a8-12c1-47d8-a8bf-8f6e314af73b",
   "metadata": {},
   "outputs": [
    {
     "data": {
      "text/html": [
       "<div>\n",
       "<style scoped>\n",
       "    .dataframe tbody tr th:only-of-type {\n",
       "        vertical-align: middle;\n",
       "    }\n",
       "\n",
       "    .dataframe tbody tr th {\n",
       "        vertical-align: top;\n",
       "    }\n",
       "\n",
       "    .dataframe thead th {\n",
       "        text-align: right;\n",
       "    }\n",
       "</style>\n",
       "<table border=\"1\" class=\"dataframe\">\n",
       "  <thead>\n",
       "    <tr style=\"text-align: right;\">\n",
       "      <th></th>\n",
       "      <th>CRIM</th>\n",
       "      <th>ZN</th>\n",
       "      <th>INDUS</th>\n",
       "      <th>CHAS</th>\n",
       "      <th>NOX</th>\n",
       "      <th>RM</th>\n",
       "      <th>AGE</th>\n",
       "      <th>DIS</th>\n",
       "      <th>RAD</th>\n",
       "      <th>TAX</th>\n",
       "      <th>PTRATIO</th>\n",
       "      <th>LSTAT</th>\n",
       "      <th>MEDV</th>\n",
       "      <th>CAT. MEDV</th>\n",
       "    </tr>\n",
       "  </thead>\n",
       "  <tbody>\n",
       "    <tr>\n",
       "      <th>0</th>\n",
       "      <td>0.00632</td>\n",
       "      <td>18.0</td>\n",
       "      <td>2.31</td>\n",
       "      <td>0</td>\n",
       "      <td>0.538</td>\n",
       "      <td>6.575</td>\n",
       "      <td>65.2</td>\n",
       "      <td>4.0900</td>\n",
       "      <td>1</td>\n",
       "      <td>296</td>\n",
       "      <td>15.3</td>\n",
       "      <td>4.98</td>\n",
       "      <td>24.0</td>\n",
       "      <td>0</td>\n",
       "    </tr>\n",
       "    <tr>\n",
       "      <th>1</th>\n",
       "      <td>0.02731</td>\n",
       "      <td>0.0</td>\n",
       "      <td>7.07</td>\n",
       "      <td>0</td>\n",
       "      <td>0.469</td>\n",
       "      <td>6.421</td>\n",
       "      <td>78.9</td>\n",
       "      <td>4.9671</td>\n",
       "      <td>2</td>\n",
       "      <td>242</td>\n",
       "      <td>17.8</td>\n",
       "      <td>9.14</td>\n",
       "      <td>21.6</td>\n",
       "      <td>0</td>\n",
       "    </tr>\n",
       "    <tr>\n",
       "      <th>2</th>\n",
       "      <td>0.02729</td>\n",
       "      <td>0.0</td>\n",
       "      <td>7.07</td>\n",
       "      <td>0</td>\n",
       "      <td>0.469</td>\n",
       "      <td>7.185</td>\n",
       "      <td>61.1</td>\n",
       "      <td>4.9671</td>\n",
       "      <td>2</td>\n",
       "      <td>242</td>\n",
       "      <td>17.8</td>\n",
       "      <td>4.03</td>\n",
       "      <td>34.7</td>\n",
       "      <td>1</td>\n",
       "    </tr>\n",
       "    <tr>\n",
       "      <th>3</th>\n",
       "      <td>0.03237</td>\n",
       "      <td>0.0</td>\n",
       "      <td>2.18</td>\n",
       "      <td>0</td>\n",
       "      <td>0.458</td>\n",
       "      <td>6.998</td>\n",
       "      <td>45.8</td>\n",
       "      <td>6.0622</td>\n",
       "      <td>3</td>\n",
       "      <td>222</td>\n",
       "      <td>18.7</td>\n",
       "      <td>2.94</td>\n",
       "      <td>33.4</td>\n",
       "      <td>1</td>\n",
       "    </tr>\n",
       "    <tr>\n",
       "      <th>4</th>\n",
       "      <td>0.06905</td>\n",
       "      <td>0.0</td>\n",
       "      <td>2.18</td>\n",
       "      <td>0</td>\n",
       "      <td>0.458</td>\n",
       "      <td>7.147</td>\n",
       "      <td>54.2</td>\n",
       "      <td>6.0622</td>\n",
       "      <td>3</td>\n",
       "      <td>222</td>\n",
       "      <td>18.7</td>\n",
       "      <td>5.33</td>\n",
       "      <td>36.2</td>\n",
       "      <td>1</td>\n",
       "    </tr>\n",
       "  </tbody>\n",
       "</table>\n",
       "</div>"
      ],
      "text/plain": [
       "      CRIM    ZN  INDUS  CHAS    NOX     RM   AGE     DIS  RAD  TAX  PTRATIO  \\\n",
       "0  0.00632  18.0   2.31     0  0.538  6.575  65.2  4.0900    1  296     15.3   \n",
       "1  0.02731   0.0   7.07     0  0.469  6.421  78.9  4.9671    2  242     17.8   \n",
       "2  0.02729   0.0   7.07     0  0.469  7.185  61.1  4.9671    2  242     17.8   \n",
       "3  0.03237   0.0   2.18     0  0.458  6.998  45.8  6.0622    3  222     18.7   \n",
       "4  0.06905   0.0   2.18     0  0.458  7.147  54.2  6.0622    3  222     18.7   \n",
       "\n",
       "   LSTAT  MEDV  CAT. MEDV  \n",
       "0   4.98  24.0          0  \n",
       "1   9.14  21.6          0  \n",
       "2   4.03  34.7          1  \n",
       "3   2.94  33.4          1  \n",
       "4   5.33  36.2          1  "
      ]
     },
     "metadata": {},
     "output_type": "display_data"
    }
   ],
   "source": [
    "datos = pd.read_csv('BostonHousing.csv')\n",
    "display(datos.head())"
   ]
  },
  {
   "cell_type": "markdown",
   "id": "1fd620f0-7199-4343-a74e-e68ca6d4c655",
   "metadata": {},
   "source": [
    "### Separar características (X) y variable objetivo (y)"
   ]
  },
  {
   "cell_type": "code",
   "execution_count": null,
   "id": "c49695d8-202a-40da-b413-3e79c7f33e36",
   "metadata": {},
   "outputs": [],
   "source": [
    "X = datos.drop('MEDV', axis=1).values  \n",
    "y = datos['MEDV'].values"
   ]
  },
  {
   "cell_type": "markdown",
   "id": "adb40d86-4eea-4b89-9b30-9682b1510023",
   "metadata": {},
   "source": [
    "### Transformar los datos"
   ]
  },
  {
   "cell_type": "code",
   "execution_count": 20,
   "id": "3f25978d-0ea9-4d68-b951-4b4458e4cb41",
   "metadata": {},
   "outputs": [],
   "source": [
    "X_train, X_test, y_train, y_test = train_test_split(X, y, test_size=0.2, random_state=42)\n",
    "\n",
    "scaler = StandardScaler()\n",
    "X_train = scaler.fit_transform(X_train)\n",
    "X_test = scaler.transform(X_test)\n",
    "\n",
    "X_train = torch.tensor(X_train, dtype=torch.float32)\n",
    "X_test = torch.tensor(X_test, dtype=torch.float32)\n",
    "y_train = torch.tensor(y_train.reshape(-1, 1), dtype=torch.float32)\n",
    "y_test = torch.tensor(y_test.reshape(-1, 1), dtype=torch.float32)"
   ]
  },
  {
   "cell_type": "markdown",
   "id": "329acf3f-c1ae-44d1-b0b0-6b028be44714",
   "metadata": {},
   "source": [
    "### Definir y configurar el modelo"
   ]
  },
  {
   "cell_type": "code",
   "execution_count": 21,
   "id": "1e2c9783-8017-4c47-ad96-3e069bb94287",
   "metadata": {},
   "outputs": [],
   "source": [
    "class BostonModel(nn.Module):\n",
    "    def __init__(self):\n",
    "        super().__init__()\n",
    "        self.hidden1 = nn.Linear(13, 64)\n",
    "        self.hidden2 = nn.Linear(64, 32)\n",
    "        self.output = nn.Linear(32, 1)\n",
    "        self.relu = nn.ReLU()\n",
    "\n",
    "    def forward(self, x):\n",
    "        x = self.relu(self.hidden1(x))\n",
    "        x = self.relu(self.hidden2(x))\n",
    "        return self.output(x)\n",
    "\n",
    "model = BostonModel()\n",
    "\n",
    "criterion = nn.MSELoss()\n",
    "optimizer = optim.Adam(model.parameters(), lr=0.01)"
   ]
  },
  {
   "cell_type": "markdown",
   "id": "11555748-b976-4984-8d34-d1fecb75fd7d",
   "metadata": {},
   "source": [
    "### Entrenar el modelo"
   ]
  },
  {
   "cell_type": "code",
   "execution_count": 22,
   "id": "761c0a10-133c-453a-9a4c-c44785c106b1",
   "metadata": {},
   "outputs": [
    {
     "name": "stdout",
     "output_type": "stream",
     "text": [
      "Epoch [50/500], Loss: 14.2655\n",
      "Epoch [100/500], Loss: 8.7008\n",
      "Epoch [150/500], Loss: 7.0687\n",
      "Epoch [200/500], Loss: 6.1983\n",
      "Epoch [250/500], Loss: 5.6869\n",
      "Epoch [300/500], Loss: 5.3226\n",
      "Epoch [350/500], Loss: 5.0140\n",
      "Epoch [400/500], Loss: 4.7342\n",
      "Epoch [450/500], Loss: 4.4968\n",
      "Epoch [500/500], Loss: 4.2821\n"
     ]
    }
   ],
   "source": [
    "epochs = 500\n",
    "losses = []\n",
    "\n",
    "for epoch in range(epochs):\n",
    "    model.train()\n",
    "    outputs = model(X_train)\n",
    "    loss = criterion(outputs, y_train)\n",
    "\n",
    "    optimizer.zero_grad()\n",
    "    loss.backward()\n",
    "    optimizer.step()\n",
    "\n",
    "    losses.append(loss.item())\n",
    "\n",
    "    if (epoch + 1) % 50 == 0:\n",
    "        print(f\"Epoch [{epoch+1}/{epochs}], Loss: {loss.item():.4f}\")"
   ]
  },
  {
   "cell_type": "markdown",
   "id": "f708ee1b-98e1-4b3b-9019-57aadce86607",
   "metadata": {},
   "source": [
    "### Evaluación del modelo"
   ]
  },
  {
   "cell_type": "code",
   "execution_count": 24,
   "id": "dbf01ed2-a1df-44be-ba9c-0e6a63c3f1a9",
   "metadata": {},
   "outputs": [
    {
     "name": "stdout",
     "output_type": "stream",
     "text": [
      "Evaluación del modelo:\n",
      "MSE:  6.6383\n",
      "MAE:  1.8730\n",
      "R²:   0.9095\n"
     ]
    }
   ],
   "source": [
    "model.eval()\n",
    "with torch.no_grad():\n",
    "    predictions = model(X_test).squeeze().numpy()\n",
    "    y_test_np = y_test.squeeze().numpy()\n",
    "\n",
    "mse = mean_squared_error(y_test_np, predictions)\n",
    "mae = mean_absolute_error(y_test_np, predictions)\n",
    "r2 = r2_score(y_test_np, predictions)\n",
    "\n",
    "print(\"Evaluación del modelo:\")\n",
    "print(f\"MSE:  {mse:.4f}\")\n",
    "print(f\"MAE:  {mae:.4f}\")\n",
    "print(f\"R²:   {r2:.4f}\")"
   ]
  },
  {
   "cell_type": "markdown",
   "id": "bc5c8c35-b002-4f6b-9d10-d294bb79847c",
   "metadata": {},
   "source": [
    "### Visualización"
   ]
  },
  {
   "cell_type": "code",
   "execution_count": 25,
   "id": "86898c13-926a-4324-8519-0190335c4c9b",
   "metadata": {},
   "outputs": [
    {
     "data": {
      "image/png": "[encoded data removed]",
      "text/plain": [
       "<Figure size 1200x500 with 2 Axes>"
      ]
     },
     "metadata": {},
     "output_type": "display_data"
    }
   ],
   "source": [
    "plt.figure(figsize=(12, 5))\n",
    "\n",
    "plt.subplot(1, 2, 1)\n",
    "plt.plot(losses, color='red')\n",
    "plt.title(\"Curva de aprendizaje\")\n",
    "plt.xlabel(\"Época\")\n",
    "plt.ylabel(\"MSE\")\n",
    "plt.grid(True)\n",
    "\n",
    "plt.subplot(1, 2, 2)\n",
    "plt.scatter(y_test_np, predictions, alpha=0.7)\n",
    "plt.plot([min(y_test_np), max(y_test_np)], [min(y_test_np), max(y_test_np)], color='green')\n",
    "plt.title(\"Valor real vs Predicción\")\n",
    "plt.xlabel(\"Valor real\")\n",
    "plt.ylabel(\"Predicción\")\n",
    "plt.grid(True)\n",
    "\n",
    "plt.tight_layout()\n",
    "plt.show()"
   ]
  },
  {
   "cell_type": "code",
   "execution_count": null,
   "id": "d8bc2338-8744-48a1-95e4-ca4c8e4b46ee",
   "metadata": {},
   "outputs": [],
   "source": []
  }
 ],
 "metadata": {
  "kernelspec": {
   "display_name": "Python 3 (ipykernel)",
   "language": "python",
   "name": "python3"
  },
  "language_info": {
   "codemirror_mode": {
    "name": "ipython",
    "version": 3
   },
   "file_extension": ".py",
   "mimetype": "text/x-python",
   "name": "python",
   "nbconvert_exporter": "python",
   "pygments_lexer": "ipython3",
   "version": "3.11.7"
  }
 },
 "nbformat": 4,
 "nbformat_minor": 5
}
