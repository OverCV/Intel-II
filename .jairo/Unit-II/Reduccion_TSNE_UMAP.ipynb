{
 "cells": [
  {
   "cell_type": "code",
   "execution_count": 16,
   "id": "298fea19-7fea-4005-a39d-2a873b5862d1",
   "metadata": {},
   "outputs": [],
   "source": [
    "import pandas as pd\n",
    "from sklearn.decomposition import PCA\n",
    "from sklearn.manifold import TSNE\n",
    "import umap.umap_ as umap\n",
    "from sklearn.preprocessing import StandardScaler"
   ]
  },
  {
   "cell_type": "code",
   "execution_count": 17,
   "id": "404c26fd-3e0b-4ef5-bc93-9af4bc4cae94",
   "metadata": {},
   "outputs": [],
   "source": [
    "%config InlineBackend.figure_format = 'retina'\n",
    "import warnings\n",
    "warnings.simplefilter(\"ignore\")"
   ]
  },
  {
   "cell_type": "markdown",
   "id": "c414ca7d-3f8f-45a2-b61f-20210a46f8b4",
   "metadata": {},
   "source": [
    "## Cargar el dataset transformado"
   ]
  },
  {
   "cell_type": "code",
   "execution_count": 18,
   "id": "b8bdcdc3-89e8-43e5-98da-de9908ac9412",
   "metadata": {},
   "outputs": [],
   "source": [
    "df_transformed = pd.read_csv(\"data_transformada.csv\")"
   ]
  },
  {
   "cell_type": "markdown",
   "id": "a14f37b1-1766-4fe0-8ff4-e8787fb09d53",
   "metadata": {},
   "source": [
    "## Estandarizar"
   ]
  },
  {
   "cell_type": "code",
   "execution_count": 19,
   "id": "36e284bd-ce0d-4b7c-b75d-065f2f53094d",
   "metadata": {},
   "outputs": [],
   "source": [
    "X_scaled = StandardScaler().fit_transform(df_transformed)"
   ]
  },
  {
   "cell_type": "markdown",
   "id": "82637eb9-3de1-4bf1-b812-5cce7bddbb34",
   "metadata": {},
   "source": [
    "## Reducir con PCA\n",
    "### Definición:\n",
    "Transforma los datos en un nuevo espacio de características ortogonales (componentes principales) que maximizan la varianza.\n",
    "### Ventajas:\n",
    "- Fácil de implementar.\n",
    "- Útil para eliminar multicolinealidad.\n",
    "### Desventajas:\n",
    "- Supone linealidad en los datos."
   ]
  },
  {
   "cell_type": "code",
   "execution_count": 30,
   "id": "c2527dd5-bb6a-470b-95da-1b5dcd91edc7",
   "metadata": {},
   "outputs": [
    {
     "ename": "",
     "evalue": "",
     "output_type": "error",
     "traceback": [
      "\u001b[1;31mRunning cells with 'Python 3.12.10' requires the ipykernel package.\n",
      "\u001b[1;31mRun the following command to install 'ipykernel' into the Python environment. \n",
      "\u001b[1;31mCommand: 'c:/Users/Hewlett-Packard/AppData/Local/Microsoft/WindowsApps/python3.12.exe -m pip install ipykernel -U --user --force-reinstall'"
     ]
    }
   ],
   "source": [
    "pca = PCA(n_components=6).fit(X_scaled)\n",
    "pca.fit(X_scaled)\n",
    "PCA_ds = pd.DataFrame(pca.transform(X_scaled), columns=([\"col1\",\"col2\", \"col3\",\"col4\",\"col5\",\"col6\"]))\n",
    "PCA_ds.to_csv('data_reduccion_PCA.csv',index=False)"
   ]
  },
  {
   "cell_type": "markdown",
   "id": "2c118070-b69d-4633-add6-3a7a833525b8",
   "metadata": {},
   "source": [
    "## Reducir con t-SNE\n",
    "### Definición:\n",
    "Técnica no lineal que modela la probabilidad de vecindad entre puntos en el espacio original y en el espacio reducido. Conserva relaciones locales mejor que globales.\n",
    "### Ventajas:\n",
    "- Excelente para datos no lineales.\n",
    "### Desventajas:\n",
    "- Computacionalmente costoso.\n",
    "- No es determinista (resultados pueden variar)."
   ]
  },
  {
   "cell_type": "code",
   "execution_count": 31,
   "id": "de7c5afd-46b9-4818-8fab-bf9d3f660d70",
   "metadata": {},
   "outputs": [],
   "source": [
    "X_tsne = TSNE(n_components=2, perplexity=30, random_state=42).fit_transform(X_scaled)\n",
    "TSNE_ds = pd.DataFrame(X_tsne,columns=([\"col1\",\"col2\"]))\n",
    "TSNE_ds.to_csv('data_reduccion_TSNE.csv',index=False)"
   ]
  },
  {
   "cell_type": "markdown",
   "id": "4168c511-a32c-4b79-9acf-2e824996b8a1",
   "metadata": {},
   "source": [
    "## Reducir con UMAP\n",
    "### Definición:\n",
    "Método basado en geometría topológica que preserva tanto relaciones locales como globales. Es más escalable que T-SNE y produce resultados más claros en menos tiempo.\n",
    "### Ventajas:\n",
    "- Más rápido que t-SNE.\n",
    "- Mejor conservación de la estructura global.\n",
    "### Desventajas:\n",
    "- Requiere ajuste de hiperparámetros.\n"
   ]
  },
  {
   "cell_type": "code",
   "execution_count": 32,
   "id": "73d8921a-e811-46d4-a6ba-8250d31d7232",
   "metadata": {},
   "outputs": [],
   "source": [
    "reducer = umap.UMAP(n_components=2, random_state=42)\n",
    "X_umap = reducer.fit_transform(X_scaled)\n",
    "UMAP_ds = pd.DataFrame(X_umap,columns=([\"col1\",\"col2\"]))\n",
    "UMAP_ds.to_csv('data_reduccion_UMAP.csv',index=False)"
   ]
  }
 ],
 "metadata": {
  "kernelspec": {
   "display_name": "Python 3",
   "language": "python",
   "name": "python3"
  },
  "language_info": {
   "codemirror_mode": {
    "name": "ipython",
    "version": 3
   },
   "file_extension": ".py",
   "mimetype": "text/x-python",
   "name": "python",
   "nbconvert_exporter": "python",
   "pygments_lexer": "ipython3",
   "version": "3.12.10"
  }
 },
 "nbformat": 4,
 "nbformat_minor": 5
}
